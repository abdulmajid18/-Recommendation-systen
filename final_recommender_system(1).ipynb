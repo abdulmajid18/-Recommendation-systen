{
  "nbformat": 4,
  "nbformat_minor": 0,
  "metadata": {
    "colab": {
      "name": "final recommender system.ipynb",
      "provenance": [],
      "collapsed_sections": []
    },
    "kernelspec": {
      "name": "python3",
      "display_name": "Python 3"
    }
  },
  "cells": [
    {
      "cell_type": "markdown",
      "metadata": {
        "id": "B3r98B5r0v6m"
      },
      "source": [
        "Content Based Recommendation System\n",
        "\n",
        "Now lets make a recommendations based on the movie’s plot summaries given in the overview column. \n",
        "So if our user gives us a movie title, our goal is to recommend movies that share similar plot summaries"
      ]
    },
    {
      "cell_type": "code",
      "metadata": {
        "id": "3q3mJehz28p_"
      },
      "source": [
        "import numpy as np\n",
        "import pandas as pd\n",
        "import seaborn as sns\n",
        "import matplotlib.pyplot as plt"
      ],
      "execution_count": 33,
      "outputs": []
    },
    {
      "cell_type": "code",
      "metadata": {
        "id": "pZhWiOln31cl"
      },
      "source": [
        "movies = pd.read_csv('/content/drive/My Drive/Movie/final_movie')"
      ],
      "execution_count": 34,
      "outputs": []
    },
    {
      "cell_type": "code",
      "metadata": {
        "id": "SMlBkxJo4RO0"
      },
      "source": [
        "movies.drop('Unnamed: 0',axis= 1,inplace= True)"
      ],
      "execution_count": 35,
      "outputs": []
    },
    {
      "cell_type": "code",
      "metadata": {
        "id": "AQ8SEVj-4OOZ",
        "outputId": "97708b80-c1e1-4d4d-b584-927f9f4ada85",
        "colab": {
          "base_uri": "https://localhost:8080/",
          "height": 206
        }
      },
      "source": [
        "movies.head(5)"
      ],
      "execution_count": 36,
      "outputs": [
        {
          "output_type": "execute_result",
          "data": {
            "text/html": [
              "<div>\n",
              "<style scoped>\n",
              "    .dataframe tbody tr th:only-of-type {\n",
              "        vertical-align: middle;\n",
              "    }\n",
              "\n",
              "    .dataframe tbody tr th {\n",
              "        vertical-align: top;\n",
              "    }\n",
              "\n",
              "    .dataframe thead th {\n",
              "        text-align: right;\n",
              "    }\n",
              "</style>\n",
              "<table border=\"1\" class=\"dataframe\">\n",
              "  <thead>\n",
              "    <tr style=\"text-align: right;\">\n",
              "      <th></th>\n",
              "      <th>director_name</th>\n",
              "      <th>actor_1_name</th>\n",
              "      <th>actor_2_name</th>\n",
              "      <th>actor_3_name</th>\n",
              "      <th>genres</th>\n",
              "      <th>movie_title</th>\n",
              "      <th>comb</th>\n",
              "    </tr>\n",
              "  </thead>\n",
              "  <tbody>\n",
              "    <tr>\n",
              "      <th>0</th>\n",
              "      <td>James Cameron</td>\n",
              "      <td>CCH Pounder</td>\n",
              "      <td>Joel David Moore</td>\n",
              "      <td>Wes Studi</td>\n",
              "      <td>Action Adventure Fantasy Sci-Fi</td>\n",
              "      <td>Avatar</td>\n",
              "      <td>CCH Pounder Joel David Moore Wes Studi James C...</td>\n",
              "    </tr>\n",
              "    <tr>\n",
              "      <th>1</th>\n",
              "      <td>Gore Verbinski</td>\n",
              "      <td>Johnny Depp</td>\n",
              "      <td>Orlando Bloom</td>\n",
              "      <td>Jack Davenport</td>\n",
              "      <td>Action Adventure Fantasy</td>\n",
              "      <td>Pirates of the Caribbean: At World's End</td>\n",
              "      <td>Johnny Depp Orlando Bloom Jack Davenport Gore ...</td>\n",
              "    </tr>\n",
              "    <tr>\n",
              "      <th>2</th>\n",
              "      <td>Sam Mendes</td>\n",
              "      <td>Christoph Waltz</td>\n",
              "      <td>Rory Kinnear</td>\n",
              "      <td>Stephanie Sigman</td>\n",
              "      <td>Action Adventure Thriller</td>\n",
              "      <td>Spectre</td>\n",
              "      <td>Christoph Waltz Rory Kinnear Stephanie Sigman ...</td>\n",
              "    </tr>\n",
              "    <tr>\n",
              "      <th>3</th>\n",
              "      <td>Christopher Nolan</td>\n",
              "      <td>Tom Hardy</td>\n",
              "      <td>Christian Bale</td>\n",
              "      <td>Joseph Gordon-Levitt</td>\n",
              "      <td>Action Thriller</td>\n",
              "      <td>The Dark Knight Rises</td>\n",
              "      <td>Tom Hardy Christian Bale Joseph Gordon-Levitt ...</td>\n",
              "    </tr>\n",
              "    <tr>\n",
              "      <th>4</th>\n",
              "      <td>Doug Walker</td>\n",
              "      <td>Doug Walker</td>\n",
              "      <td>Rob Walker</td>\n",
              "      <td>unknown</td>\n",
              "      <td>Documentary</td>\n",
              "      <td>Star Wars: Episode VII - The Force Awakens    ...</td>\n",
              "      <td>Doug Walker Rob Walker unknown Doug Walker Doc...</td>\n",
              "    </tr>\n",
              "  </tbody>\n",
              "</table>\n",
              "</div>"
            ],
            "text/plain": [
              "       director_name  ...                                               comb\n",
              "0      James Cameron  ...  CCH Pounder Joel David Moore Wes Studi James C...\n",
              "1     Gore Verbinski  ...  Johnny Depp Orlando Bloom Jack Davenport Gore ...\n",
              "2         Sam Mendes  ...  Christoph Waltz Rory Kinnear Stephanie Sigman ...\n",
              "3  Christopher Nolan  ...  Tom Hardy Christian Bale Joseph Gordon-Levitt ...\n",
              "4        Doug Walker  ...  Doug Walker Rob Walker unknown Doug Walker Doc...\n",
              "\n",
              "[5 rows x 7 columns]"
            ]
          },
          "metadata": {
            "tags": []
          },
          "execution_count": 36
        }
      ]
    },
    {
      "cell_type": "code",
      "metadata": {
        "id": "finUCD3rCwS7",
        "outputId": "97415d9c-0645-49c1-8cf0-be4409efa73a",
        "colab": {
          "base_uri": "https://localhost:8080/"
        }
      },
      "source": [
        "movies['comb'].head(1)"
      ],
      "execution_count": 38,
      "outputs": [
        {
          "output_type": "execute_result",
          "data": {
            "text/plain": [
              "0    CCH Pounder Joel David Moore Wes Studi James C...\n",
              "Name: comb, dtype: object"
            ]
          },
          "metadata": {
            "tags": []
          },
          "execution_count": 38
        }
      ]
    },
    {
      "cell_type": "code",
      "metadata": {
        "id": "bIekOfnX4mQz",
        "outputId": "92d52f4a-f176-40db-e1c8-38e6aeb19e72",
        "colab": {
          "base_uri": "https://localhost:8080/"
        }
      },
      "source": [
        "movies.columns"
      ],
      "execution_count": 39,
      "outputs": [
        {
          "output_type": "execute_result",
          "data": {
            "text/plain": [
              "Index(['director_name', 'actor_1_name', 'actor_2_name', 'actor_3_name',\n",
              "       'genres', 'movie_title', 'comb'],\n",
              "      dtype='object')"
            ]
          },
          "metadata": {
            "tags": []
          },
          "execution_count": 39
        }
      ]
    },
    {
      "cell_type": "code",
      "metadata": {
        "id": "Pp-TqzNY53MX",
        "outputId": "890e2482-f714-4123-aa77-f7f060dcb3c7",
        "colab": {
          "base_uri": "https://localhost:8080/"
        }
      },
      "source": [
        "movies.isna().sum()"
      ],
      "execution_count": 40,
      "outputs": [
        {
          "output_type": "execute_result",
          "data": {
            "text/plain": [
              "director_name    0\n",
              "actor_1_name     0\n",
              "actor_2_name     0\n",
              "actor_3_name     0\n",
              "genres           0\n",
              "movie_title      0\n",
              "comb             0\n",
              "dtype: int64"
            ]
          },
          "metadata": {
            "tags": []
          },
          "execution_count": 40
        }
      ]
    },
    {
      "cell_type": "code",
      "metadata": {
        "id": "MEAWD0Yu5tZs"
      },
      "source": [
        "# from sklearn.feature_extraction.text import TfidfVectorizer\n",
        "\n",
        "# # Using Abhishek Thakur's arguments for TF-IDF\n",
        "# tfv = TfidfVectorizer(min_df=3,  max_features=None, \n",
        "#             strip_accents='unicode', analyzer='word',token_pattern=r'\\w{1,}',\n",
        "#             ngram_range=(1, 3),\n",
        "#             stop_words = 'english')\n",
        "# # Fitting the TF-IDF on the 'comb' text\n",
        "# tfv_matrix = tfv.fit_transform(movies['comb'])"
      ],
      "execution_count": 41,
      "outputs": []
    },
    {
      "cell_type": "code",
      "metadata": {
        "id": "XDMHffoq4yKV"
      },
      "source": [
        "# tfv_matrix.shape"
      ],
      "execution_count": 42,
      "outputs": []
    },
    {
      "cell_type": "code",
      "metadata": {
        "id": "dhTi1bRs7fJT"
      },
      "source": [
        "# from sklearn.metrics.pairwise import sigmoid_kernel\n",
        "\n",
        "# # Compute the sigmoid kernel\n",
        "# sig = sigmoid_kernel(tfv_matrix, tfv_matrix)"
      ],
      "execution_count": 43,
      "outputs": []
    },
    {
      "cell_type": "code",
      "metadata": {
        "id": "xlCpQF0h-WUP"
      },
      "source": [
        "# # sig[0] represents the correlation between that movie  index and the rest of the movies\n",
        "# sig"
      ],
      "execution_count": 44,
      "outputs": []
    },
    {
      "cell_type": "code",
      "metadata": {
        "id": "bIiROHxxMr54"
      },
      "source": [
        "# def give_rec(title, sig=sig):\n",
        "#     # Get the index corresponding to original_title\n",
        "#     idx = indices[title]\n",
        "\n",
        "#     # Get the pairwsie similarity scores \n",
        "#     sig_scores = list(enumerate(sig[idx]))\n",
        "\n",
        "#     # Sort the movies \n",
        "#     sig_scores = sorted(sig_scores, key=lambda x: x[1], reverse=True)\n",
        "\n",
        "#     # Scores of the 10 most similar movies\n",
        "#     sig_scores = sig_scores[1:11]\n",
        "\n",
        "#     # Movie indices\n",
        "#     movie_indices = [i[0] for i in sig_scores]\n",
        "\n",
        "#     # Top 10 most similar movies\n",
        "#     return movies_cleaned_df['original_title'].iloc[movie_indices]"
      ],
      "execution_count": null,
      "outputs": []
    },
    {
      "cell_type": "code",
      "metadata": {
        "id": "NLsbEXeQ8MN7"
      },
      "source": [
        "movies.reset_index(inplace= True)"
      ],
      "execution_count": 45,
      "outputs": []
    },
    {
      "cell_type": "code",
      "metadata": {
        "id": "gvE3QkkR8X-5"
      },
      "source": [
        "indices = pd.Series(movies.index, index=movies['movie_title'])"
      ],
      "execution_count": 46,
      "outputs": []
    },
    {
      "cell_type": "code",
      "metadata": {
        "id": "Ca4Fw_WH9MNm",
        "outputId": "8d6f28d7-86ca-4cf4-ddc6-ba4be27b3e41",
        "colab": {
          "base_uri": "https://localhost:8080/"
        }
      },
      "source": [
        "indices"
      ],
      "execution_count": 47,
      "outputs": [
        {
          "output_type": "execute_result",
          "data": {
            "text/plain": [
              "movie_title\n",
              "Avatar                                                       0\n",
              "Pirates of the Caribbean: At World's End                     1\n",
              "Spectre                                                      2\n",
              "The Dark Knight Rises                                        3\n",
              "Star Wars: Episode VII - The Force Awakens                   4\n",
              "                                                          ... \n",
              "Holmes & Watson                                           5935\n",
              "Vice                                                      5936\n",
              "On the Basis of Sex                                       5937\n",
              "Destroyer                                                 5938\n",
              "Black Mirror: Bandersnatch                                5939\n",
              "Length: 5940, dtype: int64"
            ]
          },
          "metadata": {
            "tags": []
          },
          "execution_count": 47
        }
      ]
    },
    {
      "cell_type": "code",
      "metadata": {
        "id": "WAGvt8nLHSXU"
      },
      "source": [
        "from sklearn.feature_extraction.text import CountVectorizer\n",
        "from sklearn.metrics.pairwise import cosine_similarity"
      ],
      "execution_count": 48,
      "outputs": []
    },
    {
      "cell_type": "code",
      "metadata": {
        "id": "9MajSMjTHTkb"
      },
      "source": [
        "def create_similarity():\n",
        "    # creating a count matrix\n",
        "    cv = CountVectorizer()\n",
        "    count_matrix = cv.fit_transform(movies['comb'])\n",
        "    # creating a similarity score matrix\n",
        "    similarity = cosine_similarity(count_matrix)\n",
        "    return movies,similarity"
      ],
      "execution_count": 49,
      "outputs": []
    },
    {
      "cell_type": "code",
      "metadata": {
        "id": "3kOlHoos-MfW"
      },
      "source": [
        "def recommend(movie,algo= similarity):\n",
        "  idx = indices[movie]\n",
        "  lst = list(enumerate(similarity[idx]))\n",
        "  sim_scores = sorted(lst, key=lambda x: x[1], reverse=True)\n",
        "  sim_scores = sim_scores[1:11]\n",
        "  print(sim_scores)\n",
        "  movie_indices = [i[0] for i in sim_scores]\n",
        "  print(movie_indices)\n",
        "  return movies['movie_title'].iloc[movie_indices]"
      ],
      "execution_count": 52,
      "outputs": []
    },
    {
      "cell_type": "code",
      "metadata": {
        "id": "-Se3lSz7L9oD",
        "outputId": "7c2b61cf-23eb-4b0f-9e1f-e1a1aa831dc8",
        "colab": {
          "base_uri": "https://localhost:8080/"
        }
      },
      "source": [
        "recommend('Spy Kids')"
      ],
      "execution_count": 55,
      "outputs": [
        {
          "output_type": "stream",
          "text": [
            "[(1807, 0.8571428571428571), (1181, 0.7142857142857143), (1329, 0.7142857142857143), (1217, 0.5000000000000001), (5, 0.4629100498862758), (2276, 0.4629100498862758), (527, 0.42857142857142866), (878, 0.42857142857142866), (3248, 0.42857142857142866), (19, 0.41403933560541256)]\n",
            "[1807, 1181, 1329, 1217, 5, 2276, 527, 878, 3248, 19]\n"
          ],
          "name": "stdout"
        },
        {
          "output_type": "execute_result",
          "data": {
            "text/plain": [
              "1807    Spy Kids: All the Time in the World in 4D\n",
              "1181                      Spy Kids 3-D: Game Over\n",
              "1329            Spy Kids 2: Island of Lost Dreams\n",
              "1217                               Small Soldiers\n",
              "5                                     John Carter\n",
              "2276                                Machete Kills\n",
              "527                              Inspector Gadget\n",
              "878                                  Thunderbirds\n",
              "3248                              The Ice Pirates\n",
              "19                                 Men in Black 3\n",
              "Name: movie_title, dtype: object"
            ]
          },
          "metadata": {
            "tags": []
          },
          "execution_count": 55
        }
      ]
    },
    {
      "cell_type": "code",
      "metadata": {
        "id": "NoQHiiKRM4PO"
      },
      "source": [
        ""
      ],
      "execution_count": null,
      "outputs": []
    }
  ]
}